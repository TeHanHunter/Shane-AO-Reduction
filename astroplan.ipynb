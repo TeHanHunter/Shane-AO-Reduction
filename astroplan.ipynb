{
 "cells": [
  {
   "cell_type": "code",
   "execution_count": 1,
   "id": "627c4309",
   "metadata": {
    "ExecuteTime": {
     "end_time": "2024-03-18T21:16:05.882520Z",
     "start_time": "2024-03-18T21:16:04.845389Z"
    }
   },
   "outputs": [
    {
     "name": "stdout",
     "output_type": "stream",
     "text": [
      "(84, 20)\n"
     ]
    }
   ],
   "source": [
    "from __future__ import (absolute_import, division, print_function,\n",
    "                        unicode_literals)\n",
    "from astroplan import (FixedTarget, Observer, AltitudeConstraint,\n",
    "                       AtNightConstraint, MoonSeparationConstraint, AirmassConstraint)\n",
    "from astropy.time import Time\n",
    "from astroplan.utils import time_grid_from_range\n",
    "import astropy.units as u\n",
    "import numpy as np\n",
    "import matplotlib.pyplot as plt\n",
    "from astropy.io import ascii\n",
    "from astropy.coordinates import SkyCoord\n",
    "# Specify observer at Keck Observatory:\n",
    "lick = Observer.at_site('Lick')\n",
    "# constraints = [AirmassConstraint(2)]\n",
    "constraint = AirmassConstraint(2)\n",
    "# Define range of times to observe between\n",
    "start_time = Time('2024-03-24 03:00:01')\n",
    "end_time = Time('2024-03-24 13:00:01')\n",
    "time_resolution = 0.5 * u.hour\n",
    "\n",
    "path = '/home/tehan/Documents/ShaneAO/20240324/'\n",
    "targets = ascii.read(f'{path}targetlist.txt', data_start=0)\n",
    "\n",
    "time_grid = time_grid_from_range([start_time, end_time], time_resolution=time_resolution)\n",
    "observability_grid = np.zeros((len(targets), len(time_grid)))\n",
    "print(np.shape(observability_grid))\n",
    "for i in range(len(targets)):\n",
    "    coordinates = SkyCoord(targets[i][1], targets[i][2], unit=(u.hourangle, u.deg), frame='icrs')\n",
    "    target = FixedTarget(name='star', coord=coordinates)\n",
    "    observability_grid[i, :] = constraint(lick, target, times=time_grid)\n",
    "np.savetxt(f'{path}airmass.csv', observability_grid, delimiter=\",\")"
   ]
  },
  {
   "cell_type": "code",
   "execution_count": 2,
   "id": "81689c20",
   "metadata": {
    "ExecuteTime": {
     "end_time": "2024-03-18T21:16:05.886887Z",
     "start_time": "2024-03-18T21:16:05.883303Z"
    }
   },
   "outputs": [
    {
     "data": {
      "text/plain": "array([[1., 1., 1., ..., 1., 1., 0.],\n       [1., 1., 1., ..., 0., 0., 0.],\n       [1., 1., 1., ..., 0., 0., 0.],\n       ...,\n       [0., 0., 1., ..., 1., 1., 1.],\n       [1., 1., 1., ..., 0., 0., 0.],\n       [1., 1., 1., ..., 0., 0., 0.]])"
     },
     "execution_count": 2,
     "metadata": {},
     "output_type": "execute_result"
    }
   ],
   "source": [
    "observability_grid"
   ]
  },
  {
   "cell_type": "code",
   "execution_count": 2,
   "id": "e9ecfaeb",
   "metadata": {
    "ExecuteTime": {
     "end_time": "2024-03-18T21:16:05.889162Z",
     "start_time": "2024-03-18T21:16:05.887602Z"
    }
   },
   "outputs": [],
   "source": []
  }
 ],
 "metadata": {
  "kernelspec": {
   "display_name": "Python 3 (ipykernel)",
   "language": "python",
   "name": "python3"
  },
  "language_info": {
   "codemirror_mode": {
    "name": "ipython",
    "version": 3
   },
   "file_extension": ".py",
   "mimetype": "text/x-python",
   "name": "python",
   "nbconvert_exporter": "python",
   "pygments_lexer": "ipython3",
   "version": "3.10.12"
  }
 },
 "nbformat": 4,
 "nbformat_minor": 5
}
