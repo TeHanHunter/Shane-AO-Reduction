{
 "cells": [
  {
   "cell_type": "code",
   "execution_count": 2,
   "metadata": {
    "ExecuteTime": {
     "end_time": "2024-03-18T21:15:09.189696Z",
     "start_time": "2024-03-18T21:15:08.889607Z"
    }
   },
   "outputs": [],
   "source": [
    "import numpy as np\n",
    "import pandas as pd"
   ]
  },
  {
   "cell_type": "code",
   "execution_count": 3,
   "metadata": {
    "ExecuteTime": {
     "end_time": "2024-03-18T21:15:09.192407Z",
     "start_time": "2024-03-18T21:15:09.190517Z"
    }
   },
   "outputs": [],
   "source": [
    "# path = '/Users/jack/Documents/Other/ShaneAO_Observing/2022B/'\n",
    "path = '/home/tehan/Documents/ShaneAO/20240324/'\n",
    "infile = '2023A_ShaneAO - MarchTargetList.csv'"
   ]
  },
  {
   "cell_type": "code",
   "execution_count": 4,
   "metadata": {
    "ExecuteTime": {
     "end_time": "2024-03-18T21:15:09.197680Z",
     "start_time": "2024-03-18T21:15:09.193029Z"
    }
   },
   "outputs": [],
   "source": [
    "data = pd.read_csv(path+infile, sep=',')"
   ]
  },
  {
   "cell_type": "code",
   "execution_count": 5,
   "metadata": {
    "ExecuteTime": {
     "end_time": "2024-03-18T21:15:09.201916Z",
     "start_time": "2024-03-18T21:15:09.198631Z"
    }
   },
   "outputs": [
    {
     "name": "stdout",
     "output_type": "stream",
     "text": [
      "0     -33.11130\n",
      "1      37.13960\n",
      "2      15.30980\n",
      "3      -3.63332\n",
      "4     -27.52250\n",
      "        ...    \n",
      "79    111.99500\n",
      "80    225.77000\n",
      "81   -202.46000\n",
      "82    421.58000\n",
      "83   -708.82000\n",
      "Name: pmra, Length: 84, dtype: float64\n"
     ]
    }
   ],
   "source": [
    "print(data['pmra'])"
   ]
  },
  {
   "cell_type": "code",
   "execution_count": 6,
   "outputs": [],
   "source": [
    "GEMS = np.where(np.array(data)[:,11] == 0)\n",
    "SURFSUP = np.where(np.array(data)[:,11] == 3)"
   ],
   "metadata": {
    "collapsed": false,
    "ExecuteTime": {
     "end_time": "2024-03-18T21:15:09.204342Z",
     "start_time": "2024-03-18T21:15:09.202443Z"
    }
   }
  },
  {
   "cell_type": "code",
   "outputs": [
    {
     "data": {
      "text/plain": "-33.1113"
     },
     "execution_count": 7,
     "metadata": {},
     "output_type": "execute_result"
    }
   ],
   "source": [
    "data['pmra'][0]"
   ],
   "metadata": {
    "collapsed": false,
    "ExecuteTime": {
     "end_time": "2024-03-18T21:15:09.207791Z",
     "start_time": "2024-03-18T21:15:09.204869Z"
    }
   },
   "execution_count": 7
  },
  {
   "cell_type": "code",
   "execution_count": 8,
   "metadata": {
    "ExecuteTime": {
     "end_time": "2024-03-18T21:15:09.229255Z",
     "start_time": "2024-03-18T21:15:09.208285Z"
    }
   },
   "outputs": [],
   "source": [
    "import pandas as pd\n",
    "\n",
    "# Assuming 'data' is your DataFrame\n",
    "data_ = data.copy()  # Make a copy to avoid modifying the original DataFrame\n",
    "\n",
    "lgs = []\n",
    "for i in range(len(data_)):\n",
    "    data_.loc[i, 'pmra'] = \"pmra=\" + str(round(float(data_['pmra'][i]), 3))\n",
    "    data_.loc[i, 'pmdec'] = \"pmdec=\" + str(round(float(data_['pmdec'][i]), 3))\n",
    "    data_.loc[i, 'Jmag'] = \"Jmag=\" + str(round(float(data_['Jmag'][i]), 3))\n",
    "    data_.loc[i, 'Vmag'] = \"Vmag=\" + str(round(float(data_['Vmag'][i]), 3))\n",
    "    \n",
    "    if float(data_['Rmag'][i]) > 13.5:\n",
    "        lgs.append(\"lgs=1\")\n",
    "    else:\n",
    "        lgs.append(\"lgs=0\")\n",
    "    \n",
    "    data_.loc[i, 'Rmag'] = \"Rmag=\" + str(round(float(data_['Rmag'][i]), 3))\n",
    "\n",
    "data_['lgs'] = lgs\n"
   ]
  },
  {
   "cell_type": "code",
   "execution_count": 9,
   "metadata": {
    "ExecuteTime": {
     "end_time": "2024-03-18T21:15:09.233558Z",
     "start_time": "2024-03-18T21:15:09.229861Z"
    }
   },
   "outputs": [
    {
     "name": "stdout",
     "output_type": "stream",
     "text": [
      "Index(['Name', 'RA', 'Dec', 'J2000', 'pmra', 'pmdec', 'Jmag', 'Vmag', 'Rmag',\n",
      "       'lgs'],\n",
      "      dtype='object')\n"
     ]
    }
   ],
   "source": [
    "# print(data)\n",
    "data_.drop(columns =['TIC', 'Observed?', 'Shane Priority','Tmag', 'comments'], axis=1, inplace=True)\n",
    "print(data_.columns)\n",
    "# data.drop(columns =['TIC', 'Shane Priority', 'Total Time Observed (minutes)', 'Filter', 'During Observing Notes'], axis=1, inplace=True)\n",
    "# # data.drop(columns =['TIC', 'Shane Priority', 'Unnamed: 11', 'Unnamed: 12', 'Unnamed: 13'], axis=1, inplace=True)\n",
    "# print(data.columns)"
   ]
  },
  {
   "cell_type": "code",
   "execution_count": 10,
   "metadata": {
    "ExecuteTime": {
     "end_time": "2024-03-18T21:15:09.237471Z",
     "start_time": "2024-03-18T21:15:09.234246Z"
    }
   },
   "outputs": [],
   "source": [
    "# data.to_csv(path+outfile, sep=' ', index=False, header=False)\n",
    "# data.loc[np.where(np.array(lgs)=='lgs=1')[0]].to_csv(path+'LGS.txt', sep=' ', index=False, header=False)\n",
    "outfile = 'targetlist.txt'\n",
    "np.savetxt(path+outfile, data_.values, fmt = \"%s\")\n",
    "outfile = 'LGS.txt'\n",
    "np.savetxt(path+outfile, data_.loc[np.where(np.array(lgs)=='lgs=1')[0]].values, fmt = \"%s\")"
   ]
  },
  {
   "cell_type": "code",
   "execution_count": 11,
   "outputs": [],
   "source": [
    "outfile = 'GEMS.txt'\n",
    "np.savetxt(path+outfile, data_.loc[GEMS].values, fmt = \"%s\")\n",
    "outfile = 'SURFSUP.txt'\n",
    "np.savetxt(path+outfile, data_.loc[SURFSUP].values, fmt = \"%s\")"
   ],
   "metadata": {
    "collapsed": false,
    "ExecuteTime": {
     "end_time": "2024-03-18T21:15:09.241694Z",
     "start_time": "2024-03-18T21:15:09.238417Z"
    }
   }
  },
  {
   "cell_type": "code",
   "execution_count": 11,
   "outputs": [],
   "source": [],
   "metadata": {
    "collapsed": false,
    "ExecuteTime": {
     "end_time": "2024-03-18T21:15:09.243840Z",
     "start_time": "2024-03-18T21:15:09.242413Z"
    }
   }
  }
 ],
 "metadata": {
  "kernelspec": {
   "display_name": "Python 3 (ipykernel)",
   "language": "python",
   "name": "python3"
  },
  "language_info": {
   "codemirror_mode": {
    "name": "ipython",
    "version": 3
   },
   "file_extension": ".py",
   "mimetype": "text/x-python",
   "name": "python",
   "nbconvert_exporter": "python",
   "pygments_lexer": "ipython3",
   "version": "3.10.12"
  }
 },
 "nbformat": 4,
 "nbformat_minor": 4
}
