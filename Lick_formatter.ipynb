{
 "cells": [
  {
   "cell_type": "code",
   "execution_count": 1,
   "metadata": {},
   "outputs": [],
   "source": [
    "import numpy as np\n",
    "import pandas as pd"
   ]
  },
  {
   "cell_type": "code",
   "execution_count": 2,
   "metadata": {},
   "outputs": [],
   "source": [
    "# path = '/Users/jack/Documents/Other/ShaneAO_Observing/2022B/'\n",
    "path = '/home/tehan/Documents/ShaneAO/20230702/'\n",
    "infile = '2023A_ShaneAO - SURFSUP.csv'\n",
    "outfile = 'SURFSUP.txt'"
   ]
  },
  {
   "cell_type": "code",
   "execution_count": 3,
   "metadata": {},
   "outputs": [],
   "source": [
    "data = pd.read_csv(path+infile, sep=',')"
   ]
  },
  {
   "cell_type": "code",
   "execution_count": 4,
   "metadata": {},
   "outputs": [
    {
     "name": "stdout",
     "output_type": "stream",
     "text": [
      "          TIC           Name        RA       Dec  J2000      pmra      pmdec  \\\n",
      "0    10056120   TIC_10056120   8:17:43  39:04:19   2000   96.6677 -124.70000   \n",
      "1    35760711   TIC_35760711   2:41:15  -4:32:18   2000  352.7650  -57.91700   \n",
      "2    39699837   TIC_39699837   9:06:55  45:32:28   2000  -56.3900  -90.96000   \n",
      "3    51159255   TIC_51159255   7:17:18  -5:01:10   2000  420.9060 -390.48200   \n",
      "4    60922830   TIC_60922830   1:43:36  19:15:31   2000  -24.5340   -7.01100   \n",
      "5    61085196   TIC_61085196   2:36:44  22:40:26   2000  -37.9120 -374.50700   \n",
      "6    62560071   TIC_62560071   5:20:21  29:44:24   2000  -14.3330    3.00300   \n",
      "7    77552918   TIC_77552918  10:10:07  -2:57:05   2000 -141.3430  -23.32620   \n",
      "8   144282456  TIC_144282456   6:31:51  41:29:45   2000   -5.9700 -208.58000   \n",
      "9   148251101  TIC_148251101   4:22:06  60:32:13   2000  130.1650 -125.05600   \n",
      "10  151058955  TIC_151058955   6:03:35  16:51:46   2000  -92.3000  -16.60000   \n",
      "11  155113423  TIC_155113423  23:02:52  43:38:16   2000 -137.4940   -4.87678   \n",
      "12  166087190  TIC_166087190  14:19:03  64:51:47   2000 -112.7260   11.17080   \n",
      "13  189571727  TIC_189571727   1:36:26  40:43:44   2000   73.7320  -42.06200   \n",
      "14  192415411  TIC_192415411   3:04:32  43:18:26   2000   15.3630 -213.21700   \n",
      "15  265168621  TIC_265168621   8:30:41   4:21:44   2000  -54.0000  -99.00000   \n",
      "16  283866910  TIC_283866910   4:17:19   8:49:22   2000  133.6390 -377.26100   \n",
      "17  298559217  TIC_298559217  21:10:50  27:19:49   2000 -386.0640 -303.23000   \n",
      "18  298649058  TIC_298649058  18:10:00  51:55:08   2000  -16.2690   21.00200   \n",
      "19  313874586  TIC_313874586  21:14:33  54:12:39   2000  332.6000  266.23500   \n",
      "20  345778835  TIC_345778835   5:28:48  11:20:55   2000  -94.3290  -61.37000   \n",
      "21  346416638  TIC_346416638  22:58:27  37:18:58   2000  159.9200  -85.18000   \n",
      "22  352409577  TIC_352409577   1:02:26  41:02:10   2000 -145.7830 -114.85800   \n",
      "23  352409590  TIC_352409590   1:02:27  41:01:44   2000 -153.7510 -109.52700   \n",
      "24  427314633  TIC_427314633  23:30:03  59:16:08   2000  109.4860   -3.96912   \n",
      "25  435903839  TIC_435903839   4:18:27  14:58:13   2000   36.4020  -67.03100   \n",
      "26  456334158  TIC_456334158   8:59:35  53:43:48   2000 -275.5100 -199.29000   \n",
      "\n",
      "      Jmag    Vmag     Rmag     Tmag  Shane Priority  Observed?  comments  \n",
      "0   10.385  13.631  13.0000  11.7458               8        NaN       NaN  \n",
      "1    9.199  13.790  13.4000  10.8901               8        NaN       NaN  \n",
      "2    9.867  13.272  13.0570  11.3171               8        NaN       NaN  \n",
      "3    8.873  13.880  12.8740  10.6854               8        NaN       NaN  \n",
      "4    9.849  14.400  14.2000  11.5743               8        NaN       NaN  \n",
      "5   10.081  -1.000  14.0000  11.9970               8        NaN       NaN  \n",
      "6   10.241  -1.000  12.3116  11.7837               8        NaN       NaN  \n",
      "7    9.573  12.947  12.5220  10.9410               8        NaN       NaN  \n",
      "8    9.680  -1.000  14.4000  11.6063               8  25 min Ks       NaN  \n",
      "9    9.813  -1.000  13.3800  11.3597               8        NaN       NaN  \n",
      "10   9.387  13.700  13.3000  11.2150               8        NaN       NaN  \n",
      "11   9.316  13.894  13.5200  11.0472               8        NaN       NaN  \n",
      "12  10.386  14.154  13.1000  11.9422               8        NaN       NaN  \n",
      "13   9.734  13.200  11.4000  11.1812               8        NaN       NaN  \n",
      "14  10.127  -1.000  13.7000  11.7708               8        NaN       NaN  \n",
      "15   9.823  14.129  13.7800  11.4260               8        NaN       NaN  \n",
      "16   9.030  13.840  12.5000  10.8549               8        NaN       NaN  \n",
      "17   9.603  -1.000  12.8600  11.0114               8        NaN       NaN  \n",
      "18   9.247  -1.000  11.1452  10.6846               8   5 min Ks       NaN  \n",
      "19   9.147  -1.000   9.4000  10.5491               8        NaN       NaN  \n",
      "20  10.174  14.800  14.4000  11.9265               8        NaN       NaN  \n",
      "21   9.033  12.388  12.0180  10.4270               8        NaN       NaN  \n",
      "22   9.400  12.500  11.2490  12.0180               8        NaN       NaN  \n",
      "23  10.084  -1.000  13.8000  11.8160               8        NaN       NaN  \n",
      "24  10.123  14.660  14.4700  11.8620               8        NaN       NaN  \n",
      "25  10.444  -1.000  12.4813  11.9506               8        NaN       NaN  \n",
      "26   9.014  13.273  12.8700  10.6317               8        NaN       NaN  \n"
     ]
    }
   ],
   "source": [
    "print(data)"
   ]
  },
  {
   "cell_type": "code",
   "execution_count": 5,
   "metadata": {},
   "outputs": [
    {
     "name": "stderr",
     "output_type": "stream",
     "text": [
      "/tmp/ipykernel_15858/3218426380.py:3: SettingWithCopyWarning: \n",
      "A value is trying to be set on a copy of a slice from a DataFrame\n",
      "\n",
      "See the caveats in the documentation: https://pandas.pydata.org/pandas-docs/stable/user_guide/indexing.html#returning-a-view-versus-a-copy\n",
      "  data['pmra'][i] = \"pmra=\" + str(round(float(data['pmra'][i]),3))\n",
      "/tmp/ipykernel_15858/3218426380.py:4: SettingWithCopyWarning: \n",
      "A value is trying to be set on a copy of a slice from a DataFrame\n",
      "\n",
      "See the caveats in the documentation: https://pandas.pydata.org/pandas-docs/stable/user_guide/indexing.html#returning-a-view-versus-a-copy\n",
      "  data['pmdec'][i] = \"pmdec=\" + str(round(float(data['pmdec'][i]),3))\n",
      "/tmp/ipykernel_15858/3218426380.py:5: SettingWithCopyWarning: \n",
      "A value is trying to be set on a copy of a slice from a DataFrame\n",
      "\n",
      "See the caveats in the documentation: https://pandas.pydata.org/pandas-docs/stable/user_guide/indexing.html#returning-a-view-versus-a-copy\n",
      "  data['Jmag'][i] = \"Jmag=\" + str(round(float(data['Jmag'][i]),3))\n",
      "/tmp/ipykernel_15858/3218426380.py:6: SettingWithCopyWarning: \n",
      "A value is trying to be set on a copy of a slice from a DataFrame\n",
      "\n",
      "See the caveats in the documentation: https://pandas.pydata.org/pandas-docs/stable/user_guide/indexing.html#returning-a-view-versus-a-copy\n",
      "  data['Vmag'][i] = \"Vmag=\" + str(round(float(data['Vmag'][i]),3))\n",
      "/tmp/ipykernel_15858/3218426380.py:11: SettingWithCopyWarning: \n",
      "A value is trying to be set on a copy of a slice from a DataFrame\n",
      "\n",
      "See the caveats in the documentation: https://pandas.pydata.org/pandas-docs/stable/user_guide/indexing.html#returning-a-view-versus-a-copy\n",
      "  data['Rmag'][i] = \"Rmag=\" + str(round(float(data['Rmag'][i]),3))\n"
     ]
    }
   ],
   "source": [
    "lgs = []\n",
    "for i in range(len(data)):\n",
    "    data['pmra'][i] = \"pmra=\" + str(round(float(data['pmra'][i]),3))\n",
    "    data['pmdec'][i] = \"pmdec=\" + str(round(float(data['pmdec'][i]),3))\n",
    "    data['Jmag'][i] = \"Jmag=\" + str(round(float(data['Jmag'][i]),3))\n",
    "    data['Vmag'][i] = \"Vmag=\" + str(round(float(data['Vmag'][i]),3))\n",
    "    if float(data['Rmag'][i]) > 13.5:\n",
    "        lgs.append(\"lgs=1\")\n",
    "    else:\n",
    "        lgs.append(\"lgs=0\")\n",
    "    data['Rmag'][i] = \"Rmag=\" + str(round(float(data['Rmag'][i]),3))\n",
    "    \n",
    "data['lgs'] = lgs"
   ]
  },
  {
   "cell_type": "code",
   "execution_count": 6,
   "metadata": {},
   "outputs": [
    {
     "name": "stdout",
     "output_type": "stream",
     "text": [
      "Index(['Name', 'RA', 'Dec', 'J2000', 'pmra', 'pmdec', 'Jmag', 'Vmag', 'Rmag',\n",
      "       'lgs'],\n",
      "      dtype='object')\n"
     ]
    }
   ],
   "source": [
    "# print(data)\n",
    "data.drop(columns =['TIC', 'Observed?', 'Shane Priority','Tmag', 'comments'], axis=1, inplace=True)\n",
    "print(data.columns)\n",
    "# data.drop(columns =['TIC', 'Shane Priority', 'Total Time Observed (minutes)', 'Filter', 'During Observing Notes'], axis=1, inplace=True)\n",
    "# # data.drop(columns =['TIC', 'Shane Priority', 'Unnamed: 11', 'Unnamed: 12', 'Unnamed: 13'], axis=1, inplace=True)\n",
    "# print(data.columns)"
   ]
  },
  {
   "cell_type": "code",
   "execution_count": 7,
   "metadata": {},
   "outputs": [],
   "source": [
    "data.to_csv(path+outfile, sep=' ', index=False, header=False)\n",
    "# data.loc[np.where(np.array(lgs)=='lgs=1')[0]].to_csv(path+'LGS.txt', sep=' ', index=False, header=False)"
   ]
  },
  {
   "cell_type": "code",
   "execution_count": 8,
   "metadata": {},
   "outputs": [
    {
     "data": {
      "text/plain": [
       "array([ 0,  1,  2,  3,  6,  7,  9, 10, 12, 13, 16, 17, 18, 19, 21, 22, 25,\n",
       "       26])"
      ]
     },
     "execution_count": 8,
     "metadata": {},
     "output_type": "execute_result"
    }
   ],
   "source": [
    "np.where(np.array(lgs)=='lgs=0')[0]"
   ]
  },
  {
   "cell_type": "code",
   "execution_count": null,
   "metadata": {},
   "outputs": [],
   "source": []
  }
 ],
 "metadata": {
  "kernelspec": {
   "display_name": "Python 3 (ipykernel)",
   "language": "python",
   "name": "python3"
  },
  "language_info": {
   "codemirror_mode": {
    "name": "ipython",
    "version": 3
   },
   "file_extension": ".py",
   "mimetype": "text/x-python",
   "name": "python",
   "nbconvert_exporter": "python",
   "pygments_lexer": "ipython3",
   "version": "3.10.12"
  }
 },
 "nbformat": 4,
 "nbformat_minor": 4
}
