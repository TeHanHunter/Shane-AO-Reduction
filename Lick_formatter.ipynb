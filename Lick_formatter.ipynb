{
 "cells": [
  {
   "cell_type": "code",
   "execution_count": 1,
   "metadata": {
    "ExecuteTime": {
     "end_time": "2023-08-23T06:23:48.205331840Z",
     "start_time": "2023-08-23T06:23:48.084532403Z"
    }
   },
   "outputs": [],
   "source": [
    "import numpy as np\n",
    "import pandas as pd"
   ]
  },
  {
   "cell_type": "code",
   "execution_count": 2,
   "metadata": {
    "ExecuteTime": {
     "end_time": "2023-08-23T06:23:48.207522293Z",
     "start_time": "2023-08-23T06:23:48.206382085Z"
    }
   },
   "outputs": [],
   "source": [
    "# path = '/Users/jack/Documents/Other/ShaneAO_Observing/2022B/'\n",
    "path = '/home/tehan/Documents/ShaneAO/20230830/'\n",
    "infile = '2023A_ShaneAO - AugustTargetList.csv'"
   ]
  },
  {
   "cell_type": "code",
   "execution_count": 3,
   "metadata": {
    "ExecuteTime": {
     "end_time": "2023-08-23T06:23:48.211314030Z",
     "start_time": "2023-08-23T06:23:48.208330596Z"
    }
   },
   "outputs": [],
   "source": [
    "data = pd.read_csv(path+infile, sep=',')"
   ]
  },
  {
   "cell_type": "code",
   "execution_count": 4,
   "metadata": {
    "ExecuteTime": {
     "end_time": "2023-08-23T06:23:48.217151780Z",
     "start_time": "2023-08-23T06:23:48.212122181Z"
    }
   },
   "outputs": [
    {
     "name": "stdout",
     "output_type": "stream",
     "text": [
      "           TIC           Name        RA       Dec  J2000       pmra     pmdec   \n",
      "0     16005254       TOI-5344   4:13:04  20:54:55   2000   40.29100  -22.0198  \\\n",
      "1     26054627       TOI-5349   3:30:51  20:52:47   2000   37.13960  -19.3815   \n",
      "2    371164829       TOI-5414   7:17:28  31:28:55   2000   15.30980  -22.3980   \n",
      "3    459762279       TOI-5573   9:05:42  55:18:27   2000   -3.63332  -56.9802   \n",
      "4     39143128       TOI-5389  11:15:12  39:21:32   2000  -33.11130  -46.8709   \n",
      "..         ...            ...       ...       ...    ...        ...       ...   \n",
      "104  441056236  TIC 441056236  23:58:14   6:35:27   2000  225.77000   19.7407   \n",
      "105  446175401  TIC 446175401  13:26:53  45:32:44   2000 -202.46000 -175.8300   \n",
      "106  456334158  TIC 456334158   8:59:35  53:43:48   2000 -275.51000 -199.2900   \n",
      "107  471012349  TIC 471012349   7:17:17  18:58:57   2000  421.58000 -384.4700   \n",
      "108  471012382  TIC 471012382   8:41:59  22:25:55   2000 -708.82000  183.4920   \n",
      "\n",
      "       Jmag    Vmag     Rmag     Tmag  Shane Priority  Observed?  comments  \n",
      "0    11.799  15.402  15.8385  13.2239               0        NaN       NaN  \n",
      "1    12.434  15.685  15.1300  13.8117               0        NaN       NaN  \n",
      "2    13.136  15.777  15.3985  14.3554               0        NaN       NaN  \n",
      "3    12.305  15.508  14.9027  13.6281               0        NaN       NaN  \n",
      "4    13.402  17.090  15.2620  14.8017               0        NaN       NaN  \n",
      "..      ...     ...      ...      ...             ...        ...       ...  \n",
      "104   8.311  11.970  10.9965  10.5824               3        NaN       NaN  \n",
      "105   9.392  12.956  12.5088  10.8570               3        NaN       NaN  \n",
      "106   9.014  13.273  15.0910  10.6317               3        NaN       NaN  \n",
      "107   8.873  13.880   0.0000  10.7420               3        NaN       NaN  \n",
      "108  10.217  13.711  14.6153  11.7358               3        NaN       NaN  \n",
      "\n",
      "[109 rows x 14 columns]\n"
     ]
    }
   ],
   "source": [
    "print(data)"
   ]
  },
  {
   "cell_type": "code",
   "execution_count": 11,
   "outputs": [
    {
     "data": {
      "text/plain": "              Name        RA       Dec  J2000          pmra          pmdec   \n0         TOI-5344   4:13:04  20:54:55   2000   pmra=40.291   pmdec=-22.02  \\\n1         TOI-5349   3:30:51  20:52:47   2000    pmra=37.14  pmdec=-19.381   \n2         TOI-5414   7:17:28  31:28:55   2000    pmra=15.31  pmdec=-22.398   \n3         TOI-5573   9:05:42  55:18:27   2000   pmra=-3.633   pmdec=-56.98   \n4         TOI-5389  11:15:12  39:21:32   2000  pmra=-33.111  pmdec=-46.871   \n..             ...       ...       ...    ...           ...            ...   \n104  TIC 441056236  23:58:14   6:35:27   2000   pmra=225.77   pmdec=19.741   \n105  TIC 446175401  13:26:53  45:32:44   2000  pmra=-202.46  pmdec=-175.83   \n106  TIC 456334158   8:59:35  53:43:48   2000  pmra=-275.51  pmdec=-199.29   \n107  TIC 471012349   7:17:17  18:58:57   2000   pmra=421.58  pmdec=-384.47   \n108  TIC 471012382   8:41:59  22:25:55   2000  pmra=-708.82  pmdec=183.492   \n\n            Jmag         Vmag         Rmag    lgs  \n0    Jmag=11.799  Vmag=15.402  Rmag=15.838  lgs=1  \n1    Jmag=12.434  Vmag=15.685   Rmag=15.13  lgs=1  \n2    Jmag=13.136  Vmag=15.777  Rmag=15.399  lgs=1  \n3    Jmag=12.305  Vmag=15.508  Rmag=14.903  lgs=1  \n4    Jmag=13.402   Vmag=17.09  Rmag=15.262  lgs=1  \n..           ...          ...          ...    ...  \n104   Jmag=8.311   Vmag=11.97  Rmag=10.996  lgs=0  \n105   Jmag=9.392  Vmag=12.956  Rmag=12.509  lgs=0  \n106   Jmag=9.014  Vmag=13.273  Rmag=15.091  lgs=1  \n107   Jmag=8.873   Vmag=13.88     Rmag=0.0  lgs=0  \n108  Jmag=10.217  Vmag=13.711  Rmag=14.615  lgs=1  \n\n[109 rows x 10 columns]",
      "text/html": "<div>\n<style scoped>\n    .dataframe tbody tr th:only-of-type {\n        vertical-align: middle;\n    }\n\n    .dataframe tbody tr th {\n        vertical-align: top;\n    }\n\n    .dataframe thead th {\n        text-align: right;\n    }\n</style>\n<table border=\"1\" class=\"dataframe\">\n  <thead>\n    <tr style=\"text-align: right;\">\n      <th></th>\n      <th>Name</th>\n      <th>RA</th>\n      <th>Dec</th>\n      <th>J2000</th>\n      <th>pmra</th>\n      <th>pmdec</th>\n      <th>Jmag</th>\n      <th>Vmag</th>\n      <th>Rmag</th>\n      <th>lgs</th>\n    </tr>\n  </thead>\n  <tbody>\n    <tr>\n      <th>0</th>\n      <td>TOI-5344</td>\n      <td>4:13:04</td>\n      <td>20:54:55</td>\n      <td>2000</td>\n      <td>pmra=40.291</td>\n      <td>pmdec=-22.02</td>\n      <td>Jmag=11.799</td>\n      <td>Vmag=15.402</td>\n      <td>Rmag=15.838</td>\n      <td>lgs=1</td>\n    </tr>\n    <tr>\n      <th>1</th>\n      <td>TOI-5349</td>\n      <td>3:30:51</td>\n      <td>20:52:47</td>\n      <td>2000</td>\n      <td>pmra=37.14</td>\n      <td>pmdec=-19.381</td>\n      <td>Jmag=12.434</td>\n      <td>Vmag=15.685</td>\n      <td>Rmag=15.13</td>\n      <td>lgs=1</td>\n    </tr>\n    <tr>\n      <th>2</th>\n      <td>TOI-5414</td>\n      <td>7:17:28</td>\n      <td>31:28:55</td>\n      <td>2000</td>\n      <td>pmra=15.31</td>\n      <td>pmdec=-22.398</td>\n      <td>Jmag=13.136</td>\n      <td>Vmag=15.777</td>\n      <td>Rmag=15.399</td>\n      <td>lgs=1</td>\n    </tr>\n    <tr>\n      <th>3</th>\n      <td>TOI-5573</td>\n      <td>9:05:42</td>\n      <td>55:18:27</td>\n      <td>2000</td>\n      <td>pmra=-3.633</td>\n      <td>pmdec=-56.98</td>\n      <td>Jmag=12.305</td>\n      <td>Vmag=15.508</td>\n      <td>Rmag=14.903</td>\n      <td>lgs=1</td>\n    </tr>\n    <tr>\n      <th>4</th>\n      <td>TOI-5389</td>\n      <td>11:15:12</td>\n      <td>39:21:32</td>\n      <td>2000</td>\n      <td>pmra=-33.111</td>\n      <td>pmdec=-46.871</td>\n      <td>Jmag=13.402</td>\n      <td>Vmag=17.09</td>\n      <td>Rmag=15.262</td>\n      <td>lgs=1</td>\n    </tr>\n    <tr>\n      <th>...</th>\n      <td>...</td>\n      <td>...</td>\n      <td>...</td>\n      <td>...</td>\n      <td>...</td>\n      <td>...</td>\n      <td>...</td>\n      <td>...</td>\n      <td>...</td>\n      <td>...</td>\n    </tr>\n    <tr>\n      <th>104</th>\n      <td>TIC 441056236</td>\n      <td>23:58:14</td>\n      <td>6:35:27</td>\n      <td>2000</td>\n      <td>pmra=225.77</td>\n      <td>pmdec=19.741</td>\n      <td>Jmag=8.311</td>\n      <td>Vmag=11.97</td>\n      <td>Rmag=10.996</td>\n      <td>lgs=0</td>\n    </tr>\n    <tr>\n      <th>105</th>\n      <td>TIC 446175401</td>\n      <td>13:26:53</td>\n      <td>45:32:44</td>\n      <td>2000</td>\n      <td>pmra=-202.46</td>\n      <td>pmdec=-175.83</td>\n      <td>Jmag=9.392</td>\n      <td>Vmag=12.956</td>\n      <td>Rmag=12.509</td>\n      <td>lgs=0</td>\n    </tr>\n    <tr>\n      <th>106</th>\n      <td>TIC 456334158</td>\n      <td>8:59:35</td>\n      <td>53:43:48</td>\n      <td>2000</td>\n      <td>pmra=-275.51</td>\n      <td>pmdec=-199.29</td>\n      <td>Jmag=9.014</td>\n      <td>Vmag=13.273</td>\n      <td>Rmag=15.091</td>\n      <td>lgs=1</td>\n    </tr>\n    <tr>\n      <th>107</th>\n      <td>TIC 471012349</td>\n      <td>7:17:17</td>\n      <td>18:58:57</td>\n      <td>2000</td>\n      <td>pmra=421.58</td>\n      <td>pmdec=-384.47</td>\n      <td>Jmag=8.873</td>\n      <td>Vmag=13.88</td>\n      <td>Rmag=0.0</td>\n      <td>lgs=0</td>\n    </tr>\n    <tr>\n      <th>108</th>\n      <td>TIC 471012382</td>\n      <td>8:41:59</td>\n      <td>22:25:55</td>\n      <td>2000</td>\n      <td>pmra=-708.82</td>\n      <td>pmdec=183.492</td>\n      <td>Jmag=10.217</td>\n      <td>Vmag=13.711</td>\n      <td>Rmag=14.615</td>\n      <td>lgs=1</td>\n    </tr>\n  </tbody>\n</table>\n<p>109 rows × 10 columns</p>\n</div>"
     },
     "execution_count": 11,
     "metadata": {},
     "output_type": "execute_result"
    }
   ],
   "source": [
    "data"
   ],
   "metadata": {
    "collapsed": false,
    "ExecuteTime": {
     "end_time": "2023-08-23T06:25:31.391730828Z",
     "start_time": "2023-08-23T06:25:31.389353983Z"
    }
   }
  },
  {
   "cell_type": "code",
   "execution_count": 6,
   "metadata": {
    "ExecuteTime": {
     "end_time": "2023-08-23T06:23:48.261546572Z",
     "start_time": "2023-08-23T06:23:48.260849521Z"
    }
   },
   "outputs": [
    {
     "name": "stderr",
     "output_type": "stream",
     "text": [
      "/tmp/ipykernel_77401/1511824872.py:3: SettingWithCopyWarning: \n",
      "A value is trying to be set on a copy of a slice from a DataFrame\n",
      "\n",
      "See the caveats in the documentation: https://pandas.pydata.org/pandas-docs/stable/user_guide/indexing.html#returning-a-view-versus-a-copy\n",
      "  data['pmra'][i] = \"pmra=\" + str(round(float(data['pmra'][i]),3))\n",
      "/tmp/ipykernel_77401/1511824872.py:4: SettingWithCopyWarning: \n",
      "A value is trying to be set on a copy of a slice from a DataFrame\n",
      "\n",
      "See the caveats in the documentation: https://pandas.pydata.org/pandas-docs/stable/user_guide/indexing.html#returning-a-view-versus-a-copy\n",
      "  data['pmdec'][i] = \"pmdec=\" + str(round(float(data['pmdec'][i]),3))\n",
      "/tmp/ipykernel_77401/1511824872.py:5: SettingWithCopyWarning: \n",
      "A value is trying to be set on a copy of a slice from a DataFrame\n",
      "\n",
      "See the caveats in the documentation: https://pandas.pydata.org/pandas-docs/stable/user_guide/indexing.html#returning-a-view-versus-a-copy\n",
      "  data['Jmag'][i] = \"Jmag=\" + str(round(float(data['Jmag'][i]),3))\n",
      "/tmp/ipykernel_77401/1511824872.py:6: SettingWithCopyWarning: \n",
      "A value is trying to be set on a copy of a slice from a DataFrame\n",
      "\n",
      "See the caveats in the documentation: https://pandas.pydata.org/pandas-docs/stable/user_guide/indexing.html#returning-a-view-versus-a-copy\n",
      "  data['Vmag'][i] = \"Vmag=\" + str(round(float(data['Vmag'][i]),3))\n",
      "/tmp/ipykernel_77401/1511824872.py:11: SettingWithCopyWarning: \n",
      "A value is trying to be set on a copy of a slice from a DataFrame\n",
      "\n",
      "See the caveats in the documentation: https://pandas.pydata.org/pandas-docs/stable/user_guide/indexing.html#returning-a-view-versus-a-copy\n",
      "  data['Rmag'][i] = \"Rmag=\" + str(round(float(data['Rmag'][i]),3))\n"
     ]
    }
   ],
   "source": [
    "lgs = []\n",
    "for i in range(len(data)):\n",
    "    data['pmra'][i] = \"pmra=\" + str(round(float(data['pmra'][i]),3))\n",
    "    data['pmdec'][i] = \"pmdec=\" + str(round(float(data['pmdec'][i]),3))\n",
    "    data['Jmag'][i] = \"Jmag=\" + str(round(float(data['Jmag'][i]),3))\n",
    "    data['Vmag'][i] = \"Vmag=\" + str(round(float(data['Vmag'][i]),3))\n",
    "    if float(data['Rmag'][i]) > 13.5:\n",
    "        lgs.append(\"lgs=1\")\n",
    "    else:\n",
    "        lgs.append(\"lgs=0\")\n",
    "    data['Rmag'][i] = \"Rmag=\" + str(round(float(data['Rmag'][i]),3))\n",
    "    \n",
    "data['lgs'] = lgs"
   ]
  },
  {
   "cell_type": "code",
   "execution_count": 7,
   "metadata": {
    "ExecuteTime": {
     "end_time": "2023-08-23T06:23:48.261630206Z",
     "start_time": "2023-08-23T06:23:48.260999069Z"
    }
   },
   "outputs": [
    {
     "name": "stdout",
     "output_type": "stream",
     "text": [
      "Index(['Name', 'RA', 'Dec', 'J2000', 'pmra', 'pmdec', 'Jmag', 'Vmag', 'Rmag',\n",
      "       'lgs'],\n",
      "      dtype='object')\n"
     ]
    }
   ],
   "source": [
    "# print(data)\n",
    "data.drop(columns =['TIC', 'Observed?', 'Shane Priority','Tmag', 'comments'], axis=1, inplace=True)\n",
    "print(data.columns)\n",
    "# data.drop(columns =['TIC', 'Shane Priority', 'Total Time Observed (minutes)', 'Filter', 'During Observing Notes'], axis=1, inplace=True)\n",
    "# # data.drop(columns =['TIC', 'Shane Priority', 'Unnamed: 11', 'Unnamed: 12', 'Unnamed: 13'], axis=1, inplace=True)\n",
    "# print(data.columns)"
   ]
  },
  {
   "cell_type": "code",
   "execution_count": 13,
   "metadata": {
    "ExecuteTime": {
     "end_time": "2023-08-23T06:32:49.828806662Z",
     "start_time": "2023-08-23T06:32:49.781621154Z"
    }
   },
   "outputs": [],
   "source": [
    "# data.to_csv(path+outfile, sep=' ', index=False, header=False)\n",
    "# data.loc[np.where(np.array(lgs)=='lgs=1')[0]].to_csv(path+'LGS.txt', sep=' ', index=False, header=False)\n",
    "outfile = 'LGS.txt'\n",
    "# np.savetxt(path+outfile, data.values, fmt = \"%s\")\n",
    "np.savetxt(path+outfile, data.loc[np.where(np.array(lgs)=='lgs=1')[0]].values, fmt = \"%s\")"
   ]
  }
 ],
 "metadata": {
  "kernelspec": {
   "display_name": "Python 3 (ipykernel)",
   "language": "python",
   "name": "python3"
  },
  "language_info": {
   "codemirror_mode": {
    "name": "ipython",
    "version": 3
   },
   "file_extension": ".py",
   "mimetype": "text/x-python",
   "name": "python",
   "nbconvert_exporter": "python",
   "pygments_lexer": "ipython3",
   "version": "3.10.12"
  }
 },
 "nbformat": 4,
 "nbformat_minor": 4
}
