{
 "cells": [
  {
   "cell_type": "code",
   "execution_count": 1,
   "outputs": [],
   "source": [
    "import numpy as np\n",
    "from selenium import webdriver\n",
    "from selenium.webdriver.common.by import By\n",
    "from selenium.webdriver.common.keys import Keys\n",
    "from selenium.webdriver.support.ui import WebDriverWait\n",
    "from selenium.webdriver.support import expected_conditions as EC\n",
    "import time"
   ],
   "metadata": {
    "collapsed": false,
    "ExecuteTime": {
     "end_time": "2023-08-22T23:50:40.367789638Z",
     "start_time": "2023-08-22T23:50:40.333597413Z"
    }
   },
   "id": "5ea64b1881bb5532"
  },
  {
   "cell_type": "code",
   "execution_count": 3,
   "outputs": [],
   "source": [
    "def search_star(star):\n",
    "    driver = webdriver.Chrome() # '/home/tehan/Downloads/chromedriver-linux64/chromedriver'\n",
    "    # driver.get('https://google.com')\n",
    "    driver.get('https://exofop.ipac.caltech.edu/tess/')\n",
    "    search = driver.find_element(By.NAME, value='target')\n",
    "    search.send_keys(star)\n",
    "    search.send_keys(Keys.ENTER)\n",
    "    \n",
    "    # proper motion\n",
    "    table = driver.find_element(By.CLASS_NAME, 'inline-table')\n",
    "    tableRows = table.find_element(By.TAG_NAME, 'tr')\n",
    "    RA = tableRows.text.split(' ')[1]\n",
    "    dec = tableRows.text.split(' ')[4]\n",
    "    \n",
    "    # magnitudes\n",
    "    Jmag = '0'\n",
    "    Vmag = '0'\t\n",
    "    Rmag = '0'\n",
    "    Tmag = '0'\n",
    "    magnitudes = driver.find_element(By.ID, 'myGrid6')\n",
    "    mags = np.array(magnitudes.text.split(\"\\n\"))\n",
    "    try:\n",
    "        Jmag = mags[np.where(mags== 'J')[0][0] + 1].split(' ')[0]\n",
    "    except:\n",
    "        pass\n",
    "    try:\n",
    "        Vmag = mags[np.where(mags== 'V')[0][0] + 1].split(' ')[0]\n",
    "    except:\n",
    "        pass\n",
    "    try:\n",
    "        Rmag = mags[np.where(mags== 'r')[0][0] + 1].split(' ')[0]\n",
    "    except:\n",
    "        pass\n",
    "    try:\n",
    "        Tmag = mags[np.where(mags== 'TESS')[0][0] + 1].split(' ')[0]\n",
    "    except:\n",
    "        pass\n",
    "    driver.quit()\n",
    "    return [star, RA, dec, Jmag, Vmag, Rmag, Tmag]"
   ],
   "metadata": {
    "collapsed": false,
    "ExecuteTime": {
     "end_time": "2023-08-22T23:50:41.792635352Z",
     "start_time": "2023-08-22T23:50:41.791536982Z"
    }
   },
   "id": "4263c37f12d535bb"
  },
  {
   "cell_type": "code",
   "execution_count": 4,
   "outputs": [
    {
     "data": {
      "text/plain": "['TOI 5344', '40.291', '-22.0198', '11.799', '15.402', '15.8385', '13.2239']"
     },
     "execution_count": 4,
     "metadata": {},
     "output_type": "execute_result"
    }
   ],
   "source": [
    "search_star('TOI 5344')"
   ],
   "metadata": {
    "collapsed": false,
    "ExecuteTime": {
     "end_time": "2023-08-22T23:50:43.870367014Z",
     "start_time": "2023-08-22T23:50:41.793011633Z"
    }
   },
   "id": "b29a450c18b0fc14"
  }
 ],
 "metadata": {
  "kernelspec": {
   "display_name": "Python 3",
   "language": "python",
   "name": "python3"
  },
  "language_info": {
   "codemirror_mode": {
    "name": "ipython",
    "version": 2
   },
   "file_extension": ".py",
   "mimetype": "text/x-python",
   "name": "python",
   "nbconvert_exporter": "python",
   "pygments_lexer": "ipython2",
   "version": "2.7.6"
  }
 },
 "nbformat": 4,
 "nbformat_minor": 5
}
