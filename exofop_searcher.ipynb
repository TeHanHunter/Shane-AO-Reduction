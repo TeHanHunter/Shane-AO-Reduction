{
 "cells": [
  {
   "cell_type": "code",
   "execution_count": 4,
   "outputs": [],
   "source": [
    "import numpy as np\n",
    "from tqdm import trange\n",
    "from astropy.io import ascii\n",
    "from astropy.table import Table\n",
    "from selenium import webdriver\n",
    "from selenium.webdriver.common.by import By\n",
    "from selenium.webdriver.common.keys import Keys\n",
    "from selenium.webdriver.chrome.options import Options\n",
    "from selenium.webdriver.support.ui import WebDriverWait\n",
    "from selenium.webdriver.support import expected_conditions as EC\n",
    "import time\n",
    "import warnings\n",
    "from astroquery.gaia import Gaia\n",
    "\n",
    "chrome_options = Options()\n",
    "import astropy.units as u\n",
    "from astropy.coordinates import SkyCoord\n",
    "from astroquery.gaia import Gaia\n",
    "\n",
    "Gaia.MAIN_GAIA_TABLE = \"gaiadr2.gaia_source\"\n",
    "#chrome_options.add_argument(\"--disable-extensions\")\n",
    "#chrome_options.add_argument(\"--disable-gpu\")\n",
    "chrome_options.add_argument(\"--no-sandbox\")  # linux only\n",
    "chrome_options.add_argument(\"--headless\")"
   ],
   "metadata": {
    "collapsed": false,
    "ExecuteTime": {
     "end_time": "2024-03-18T21:08:53.608736Z",
     "start_time": "2024-03-18T21:08:53.605263Z"
    }
   },
   "id": "5ea64b1881bb5532"
  },
  {
   "cell_type": "code",
   "execution_count": 5,
   "outputs": [],
   "source": [
    "def search_gaia(gaia_id, RA=None, dec=None, star=None):\n",
    "    coord = SkyCoord(ra=RA, dec=dec, unit=(u.hourangle, u.deg), frame='icrs')\n",
    "    width = u.Quantity(0.1, u.deg)\n",
    "    height = u.Quantity(0.1, u.deg)\n",
    "    r = Gaia.query_object_async(coordinate=coord, width=width, height=height)\n",
    "    i = np.where(r['DESIGNATION'] == gaia_id)\n",
    "    Gmag = float(r['phot_g_mean_mag'][i])\n",
    "    BPmag = float(r['phot_bp_mean_mag'][i])\n",
    "    RPmag = float(r['phot_rp_mean_mag'][i])\n",
    "    pmRA_gaia = f\"{float(r['pmra'][i]): .4f}\"\n",
    "    pmdec_gaia = f\"{float(r['pmdec'][i]): .4f}\"\n",
    "\n",
    "    BP_RP = BPmag - RPmag\n",
    "    Rmag = Gmag + 0.29676 - 0.64728 * (BP_RP) + 0.10141 * (BP_RP) ** 2\n",
    "    Rmag = f'{Rmag: .4f}'\n",
    "    if BP_RP > 0.2 and BP_RP < 4.5:\n",
    "        return Rmag, pmRA_gaia, pmdec_gaia\n",
    "    else:\n",
    "        print('The r mag is: ' + str(i))\n",
    "        warnings.warn(f'This Bp-Rp range (BP-RP = {BP_RP}) may not be valid. ')\n",
    "        return Rmag, pmRA_gaia, pmdec_gaia\n",
    "\n",
    "\n",
    "def search_exofop(star):\n",
    "    driver = webdriver.Chrome()  # '/home/tehan/Downloads/chromedriver-linux64/chromedriver'\n",
    "    driver.get('https://exofop.ipac.caltech.edu/tess/')\n",
    "    search = driver.find_element(By.NAME, value='target')\n",
    "    search.send_keys(star)\n",
    "    search.send_keys(Keys.ENTER)\n",
    "    time.sleep(2)\n",
    "\n",
    "    # RA/dec\n",
    "    position = driver.find_elements(By.TAG_NAME, 'li')\n",
    "    gaia_id = None\n",
    "    for j in range(len(position)):\n",
    "        if position[j].text.split(' ')[0] == 'RA/Dec':\n",
    "            RA = position[j].text.split(' ')[4]\n",
    "            dec = position[j].text.split(' ')[5]\n",
    "        elif position[j].text.split(' ')[0] == 'Star':\n",
    "            for k in range(len(position[j].text.split(', '))):\n",
    "                if position[j].text.split(', ')[k][:4] == 'Gaia':\n",
    "                    gaia_id = position[j].text.split(', ')[k]\n",
    "\n",
    "    # proper motion\n",
    "    table = driver.find_element(By.CLASS_NAME, 'inline-table')\n",
    "    tableRows = table.find_element(By.TAG_NAME, 'tr')\n",
    "    pmRA = tableRows.text.split(' ')[1]\n",
    "    pmdec = tableRows.text.split(' ')[4]\n",
    "\n",
    "    # magnitudes\n",
    "    Jmag = '0'\n",
    "    Vmag = '0'\n",
    "    Rmag = '0'\n",
    "    Tmag = '0'\n",
    "    magnitudes = driver.find_element(By.ID, 'myGrid6')\n",
    "    mags = np.array(magnitudes.text.split(\"\\n\"))\n",
    "    try:\n",
    "        Jmag = mags[np.where(mags == 'J')[0][0] + 1].split(' ')[0]\n",
    "    except:\n",
    "        pass\n",
    "    try:\n",
    "        Vmag = mags[np.where(mags == 'V')[0][0] + 1].split(' ')[0]\n",
    "    except:\n",
    "        pass\n",
    "    try:\n",
    "        Rmag = mags[np.where(mags == 'r')[0][0] + 1].split(' ')[0]\n",
    "    except IndexError:\n",
    "        try:\n",
    "            Rmag, pmRA_gaia, pmdec_gaia = search_gaia(gaia_id, RA=RA, dec=dec)\n",
    "        except ValueError:\n",
    "            print(f'No Gaia ID for {star}.')\n",
    "            pass\n",
    "    try:\n",
    "        Tmag = mags[np.where(mags == 'TESS')[0][0] + 1].split(' ')[0]\n",
    "    except:\n",
    "        pass\n",
    "    driver.quit()\n",
    "\n",
    "    # if pmRA == '0':\n",
    "    #     pmRA = pmRA_gaia\n",
    "    # if pmdec == '0':\n",
    "    #     pmdec = pmdec_gaia\n",
    "\n",
    "    return [star, RA, dec, pmRA, pmdec, Jmag, Vmag, Rmag, Tmag]\n",
    "\n",
    "# element = WebDriverWait(driver, 10).until(EC.presence_of_element_located((By.ID, \"myDynamicElement\")))"
   ],
   "metadata": {
    "collapsed": false,
    "ExecuteTime": {
     "end_time": "2024-03-18T21:08:53.615456Z",
     "start_time": "2024-03-18T21:08:53.609549Z"
    }
   },
   "id": "4263c37f12d535bb"
  },
  {
   "cell_type": "code",
   "execution_count": 6,
   "outputs": [
    {
     "name": "stderr",
     "output_type": "stream",
     "text": [
      "100%|██████████| 2/2 [00:15<00:00,  7.81s/it]\n"
     ]
    },
    {
     "data": {
      "text/plain": "<Table length=2>\n   Name        RA         Dec        pmra   ...  Jmag   Vmag    Rmag    Tmag \n  str21      str21       str21      str21   ... str21  str21   str21   str21 \n--------- ----------- ------------ -------- ... ------ ------ ------- -------\n305506996 21:41:11.88 +09:35:56.59 -8.93319 ... 13.118 16.602 16.0885 14.5249\n404456775 22:15:34.66 +16:17:07.41  62.8829 ... 13.009  16.29 16.2776 14.5372",
      "text/html": "<div><i>Table length=2</i>\n<table id=\"table133965372024736\" class=\"table-striped table-bordered table-condensed\">\n<thead><tr><th>Name</th><th>RA</th><th>Dec</th><th>pmra</th><th>pmdec</th><th>Jmag</th><th>Vmag</th><th>Rmag</th><th>Tmag</th></tr></thead>\n<thead><tr><th>str21</th><th>str21</th><th>str21</th><th>str21</th><th>str21</th><th>str21</th><th>str21</th><th>str21</th><th>str21</th></tr></thead>\n<tr><td>305506996</td><td>21:41:11.88</td><td>+09:35:56.59</td><td>-8.93319</td><td>-25.5916</td><td>13.118</td><td>16.602</td><td>16.0885</td><td>14.5249</td></tr>\n<tr><td>404456775</td><td>22:15:34.66</td><td>+16:17:07.41</td><td>62.8829</td><td>-35.2633</td><td>13.009</td><td>16.29</td><td>16.2776</td><td>14.5372</td></tr>\n</table></div>"
     },
     "execution_count": 6,
     "metadata": {},
     "output_type": "execute_result"
    }
   ],
   "source": [
    "path = '/home/tehan/Documents/ShaneAO/'\n",
    "# data = ascii.read(f'{path}shaneAO_proposal.csv', data_start=0)\n",
    "stars = [305506996, 404456775]\n",
    "\n",
    "object_list = []\n",
    "for i in trange(len(stars)):\n",
    "    object_list.append(search_exofop(stars[i]))\n",
    "\n",
    "# change the wrong minus sign\n",
    "# for lists in object_list:\n",
    "#     for sub in lists:\n",
    "#         sub.replace('−', '-')\n",
    "\n",
    "object_list = Table(np.array(object_list), names=['Name', 'RA', 'Dec', 'pmra', 'pmdec', 'Jmag', 'Vmag', 'Rmag', 'Tmag'])\n",
    "ascii.write(object_list, f'{path}object_list.csv', format='csv', overwrite=True)\n",
    "object_list"
   ],
   "metadata": {
    "collapsed": false,
    "ExecuteTime": {
     "end_time": "2024-03-18T21:09:09.246926Z",
     "start_time": "2024-03-18T21:08:53.616057Z"
    }
   },
   "id": "768842c86d86c365"
  },
  {
   "cell_type": "code",
   "execution_count": 6,
   "outputs": [],
   "source": [],
   "metadata": {
    "collapsed": false,
    "ExecuteTime": {
     "end_time": "2024-03-18T21:09:09.249247Z",
     "start_time": "2024-03-18T21:09:09.247814Z"
    }
   },
   "id": "cd701bf27b872495"
  }
 ],
 "metadata": {
  "kernelspec": {
   "display_name": "Python 3",
   "language": "python",
   "name": "python3"
  },
  "language_info": {
   "codemirror_mode": {
    "name": "ipython",
    "version": 2
   },
   "file_extension": ".py",
   "mimetype": "text/x-python",
   "name": "python",
   "nbconvert_exporter": "python",
   "pygments_lexer": "ipython2",
   "version": "2.7.6"
  }
 },
 "nbformat": 4,
 "nbformat_minor": 5
}
