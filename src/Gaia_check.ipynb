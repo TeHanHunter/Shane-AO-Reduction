{
 "cells": [
  {
   "cell_type": "code",
   "id": "initial_id",
   "metadata": {
    "collapsed": true,
    "ExecuteTime": {
     "end_time": "2024-04-25T00:05:49.055096Z",
     "start_time": "2024-04-25T00:05:48.624799Z"
    }
   },
   "source": [
    "import numpy as np\n",
    "import matplotlib.pyplot as plt\n",
    "from astropy.io import fits\n",
    "import astropy.units as u\n",
    "from astropy.coordinates import SkyCoord\n",
    "from astropy.time import Time\n",
    "from astropy.wcs import WCS"
   ],
   "outputs": [],
   "execution_count": 1
  },
  {
   "metadata": {
    "ExecuteTime": {
     "end_time": "2024-04-25T00:19:50.606307Z",
     "start_time": "2024-04-25T00:19:50.600570Z"
    }
   },
   "cell_type": "code",
   "source": [
    "hdul = fits.open('/home/tehan/Documents/ShaneAO/20240128/Results/TIC_456334158_final_filter_Ks.fits')\n",
    "wcs = WCS(hdul[0].header)\n",
    "wcs"
   ],
   "id": "363b2ba38f77f442",
   "outputs": [
    {
     "data": {
      "text/plain": [
       "WCS Keywords\n",
       "\n",
       "Number of WCS axes: 2\n",
       "CTYPE : 'RA---TAN'  'DEC--TAN'  \n",
       "CRVAL : 134.898045  53.73132  \n",
       "CRPIX : 700.0  -300.0  \n",
       "PC1_1 PC1_2  : 3.32841e-14  9.44444e-06  \n",
       "PC2_1 PC2_2  : -9.44444e-06  3.32841e-14  \n",
       "CDELT : 1.0  1.0  \n",
       "NAXIS : 600  600"
      ]
     },
     "execution_count": 9,
     "metadata": {},
     "output_type": "execute_result"
    }
   ],
   "execution_count": 9
  },
  {
   "metadata": {
    "ExecuteTime": {
     "end_time": "2024-04-25T00:19:51.709911Z",
     "start_time": "2024-04-25T00:19:51.708248Z"
    }
   },
   "cell_type": "code",
   "source": "",
   "id": "555619924f584389",
   "outputs": [],
   "execution_count": 9
  },
  {
   "metadata": {
    "ExecuteTime": {
     "end_time": "2024-04-25T00:19:51.967185Z",
     "start_time": "2024-04-25T00:19:51.964505Z"
    }
   },
   "cell_type": "code",
   "source": "hdul[0].header",
   "id": "2acc906b04fa9b4d",
   "outputs": [
    {
     "data": {
      "text/plain": [
       "SIMPLE  =                    T / conforms to FITS standard                      \n",
       "BITPIX  =                  -64 / array data type                                \n",
       "NAXIS   =                    2 / number of array dimensions                     \n",
       "NAXIS1  =                  600                                                  \n",
       "NAXIS2  =                  600                                                  \n",
       "WCSAXES =                    2 / Number of coordinate axes                      \n",
       "CRPIX1  =                700.0 / Pixel coordinate of reference point            \n",
       "CRPIX2  =               -300.0 / Pixel coordinate of reference point            \n",
       "PC1_1   =          3.32841E-14 / Coordinate transformation matrix element       \n",
       "PC1_2   =          9.44444E-06 / Coordinate transformation matrix element       \n",
       "PC2_1   =         -9.44444E-06 / Coordinate transformation matrix element       \n",
       "PC2_2   =          3.32841E-14 / Coordinate transformation matrix element       \n",
       "CDELT1  =                  1.0 / [deg] Coordinate increment at reference point  \n",
       "CDELT2  =                  1.0 / [deg] Coordinate increment at reference point  \n",
       "CUNIT1  = 'deg'                / Units of coordinate increment and value        \n",
       "CUNIT2  = 'deg'                / Units of coordinate increment and value        \n",
       "CTYPE1  = 'RA---TAN'           / Right ascension, gnomonic projection           \n",
       "CTYPE2  = 'DEC--TAN'           / Declination, gnomonic projection               \n",
       "CRVAL1  =           134.898045 / [deg] Coordinate value at reference point      \n",
       "CRVAL2  =             53.73132 / [deg] Coordinate value at reference point      \n",
       "LONPOLE =                180.0 / [deg] Native longitude of celestial pole       \n",
       "LATPOLE =             53.73132 / [deg] Native latitude of celestial pole        \n",
       "CNAME1  = 'Right Ascension'    / Axis name for labelling purposes               \n",
       "CNAME2  = 'Declination'        / Axis name for labelling purposes               \n",
       "CRDER1  =          9.44444E-06 / [deg] Random error in coordinate               \n",
       "CRDER2  =          9.44444E-06 / [deg] Random error in coordinate               \n",
       "CSYER1  =            0.0166667 / [deg] Systematic error in coordinate           \n",
       "CSYER2  =            0.0166667 / [deg] Systematic error in coordinate           \n",
       "WCSNAME = 'Celestial coordinates' / Coordinate system title                     \n",
       "MJDREF  =                  0.0 / [d] MJD of fiducial time                       \n",
       "DATE-OBS= '2011-05-05'         / ISO-8601 time of observation                   \n",
       "MJD-OBS =              55686.0 / [d] MJD of observation                         \n",
       "DATE-BEG= '2024-01-29T11:40:41.351' / ISO-8601 time at start of observation     \n",
       "MJD-BEG =      60338.486589711 / [d] MJD at start of observation                \n",
       "RADESYS = 'FK5'                / Equatorial coordinate system                   \n",
       "EQUINOX =               2000.0 / [yr] Equinox of equatorial coordinates         "
      ]
     },
     "execution_count": 10,
     "metadata": {},
     "output_type": "execute_result"
    }
   ],
   "execution_count": 10
  },
  {
   "metadata": {
    "ExecuteTime": {
     "end_time": "2024-04-25T00:19:52.176115Z",
     "start_time": "2024-04-25T00:19:52.173639Z"
    }
   },
   "cell_type": "code",
   "source": "np.shape(hdul[0].data)",
   "id": "a512f3701836eb6f",
   "outputs": [
    {
     "data": {
      "text/plain": [
       "(600, 600)"
      ]
     },
     "execution_count": 11,
     "metadata": {},
     "output_type": "execute_result"
    }
   ],
   "execution_count": 11
  },
  {
   "metadata": {
    "ExecuteTime": {
     "end_time": "2024-04-25T00:19:52.498090Z",
     "start_time": "2024-04-25T00:19:52.409377Z"
    }
   },
   "cell_type": "code",
   "source": "plt.imshow(hdul[0].data, origin='lower')",
   "id": "45a7f0c6c9ba2b11",
   "outputs": [
    {
     "data": {
      "text/plain": [
       "<matplotlib.image.AxesImage at 0x7c27d42b2710>"
      ]
     },
     "execution_count": 12,
     "metadata": {},
     "output_type": "execute_result"
    },
    {
     "data": {
      "text/plain": [
       "<Figure size 640x480 with 1 Axes>"
      ],
      "image/png": "[encoded data removed]"
     },
     "metadata": {},
     "output_type": "display_data"
    }
   ],
   "execution_count": 12
  },
  {
   "metadata": {
    "ExecuteTime": {
     "end_time": "2024-04-25T00:19:53.161351Z",
     "start_time": "2024-04-25T00:19:53.155349Z"
    }
   },
   "cell_type": "code",
   "source": [
    "from astropy.coordinates import FK5, ICRS\n",
    "coord = wcs.pixel_to_world([320], [280])\n",
    "print(coord)\n",
    "print(coord.transform_to(ICRS))\n",
    "print(coord.transform_to(FK5(equinox='J2015.5')))"
   ],
   "id": "4fb199327bcc5a94",
   "outputs": [
    {
     "name": "stdout",
     "output_type": "stream",
     "text": [
      "<SkyCoord (FK5: equinox=2000.0): (ra, dec) in deg\n",
      "    [(134.90732144, 53.73489908)]>\n",
      "<SkyCoord (ICRS): (ra, dec) in deg\n",
      "    [(134.90731796, 53.73490478)]>\n",
      "<SkyCoord (FK5: equinox=J2015.500): (ra, dec) in deg\n",
      "    [(135.1889146, 53.67383175)]>\n"
     ]
    }
   ],
   "execution_count": 13
  },
  {
   "metadata": {
    "ExecuteTime": {
     "end_time": "2024-04-25T00:19:53.679158Z",
     "start_time": "2024-04-25T00:19:53.677660Z"
    }
   },
   "cell_type": "code",
   "source": "",
   "id": "b2f23e22ba7f4a54",
   "outputs": [],
   "execution_count": 13
  },
  {
   "metadata": {
    "ExecuteTime": {
     "end_time": "2024-04-25T00:19:54.061416Z",
     "start_time": "2024-04-25T00:19:54.056244Z"
    }
   },
   "cell_type": "code",
   "source": [
    "from astropy.nddata import Cutout2D\n",
    "original_data = hdul[0].data\n",
    "original_header = hdul[0].header\n",
    "original_wcs = WCS(original_header)\n",
    "position = (300,300)  # Example position (x, y) in pixels\n",
    "size = (600, 600)  # Example size (width, height) in pixels\n",
    "cutout = Cutout2D(original_data, position, size, wcs=original_wcs, mode='strict')\n",
    "cutout_wcs = cutout.wcs.to_header()\n",
    "cutout_hdulist = fits.PrimaryHDU(data=cutout.data, header=cutout_wcs)"
   ],
   "id": "e5701acc56483a6e",
   "outputs": [],
   "execution_count": 14
  },
  {
   "metadata": {
    "ExecuteTime": {
     "end_time": "2024-04-25T00:19:55.030672Z",
     "start_time": "2024-04-25T00:19:54.958364Z"
    }
   },
   "cell_type": "code",
   "source": [
    "plt.imshow(cutout_hdulist.data, origin='lower')\n",
    "plt.xlim(0,10)\n",
    "plt.ylim(0,10)\n",
    "coord = WCS(cutout_wcs).pixel_to_world([600], [600])\n",
    "coord"
   ],
   "id": "98f049d64f6e7c4a",
   "outputs": [
    {
     "data": {
      "text/plain": [
       "<SkyCoord (FK5: equinox=2000.0): (ra, dec) in deg\n",
       "    [(134.91242976, 53.73225414)]>"
      ]
     },
     "execution_count": 15,
     "metadata": {},
     "output_type": "execute_result"
    },
    {
     "data": {
      "text/plain": [
       "<Figure size 640x480 with 1 Axes>"
      ],
      "image/png": "[encoded data removed]"
     },
     "metadata": {},
     "output_type": "display_data"
    }
   ],
   "execution_count": 15
  },
  {
   "metadata": {
    "ExecuteTime": {
     "end_time": "2024-04-25T00:05:49.257815Z",
     "start_time": "2024-04-25T00:05:49.256317Z"
    }
   },
   "cell_type": "code",
   "source": "",
   "id": "60c8343b9ad1a1ad",
   "outputs": [],
   "execution_count": 8
  }
 ],
 "metadata": {
  "kernelspec": {
   "display_name": "Python 3",
   "language": "python",
   "name": "python3"
  },
  "language_info": {
   "codemirror_mode": {
    "name": "ipython",
    "version": 2
   },
   "file_extension": ".py",
   "mimetype": "text/x-python",
   "name": "python",
   "nbconvert_exporter": "python",
   "pygments_lexer": "ipython2",
   "version": "2.7.6"
  }
 },
 "nbformat": 4,
 "nbformat_minor": 5
}
