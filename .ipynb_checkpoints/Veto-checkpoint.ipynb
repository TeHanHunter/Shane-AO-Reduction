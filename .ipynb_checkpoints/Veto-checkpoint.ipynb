{
 "cells": [
  {
   "cell_type": "code",
   "execution_count": 1,
   "metadata": {},
   "source": [
    "import os\n",
    "import numpy as np\n",
    "\n",
    "import matplotlib\n",
    "import matplotlib.pyplot as plt\n",
    "import matplotlib.gridspec as gridspec\n",
    "%matplotlib inline\n",
    "\n",
    "\n",
    "import glob\n",
    "from astropy.io import fits\n",
    "from astropy.stats import sigma_clip\n",
    "from scipy.ndimage import interpolation as interp\n",
    "\n",
    "#from skimage.feature.register_translation import (register_translation, _upsampled_dft)\n",
    "\n",
    "import aotools\n",
    "import astroscrappy\n",
    "from scipy.optimize import leastsq\n",
    "import ccdproc\n",
    "import math"
   ],
   "outputs": []
  },
  {
   "cell_type": "code",
   "execution_count": 2,
   "metadata": {},
   "source": [
    "from scipy.ndimage.filters import median_filter, gaussian_filter\n",
    "def guess_gaussian_parameters(d):\n",
    "    \"\"\"\n",
    "    This image guesses the maximum intensity of the \n",
    "    image by obtaining a smoothed version of the image \n",
    "    via median + gaussian filtering. Then, finds the \n",
    "    maximum of the smoothed image. Using the median-filtered \n",
    "    image, the algorithm also estimates the width of the PSF and \n",
    "    with this value and an estimate of the volume, the amplitude of \n",
    "    such gaussian.\n",
    "\n",
    "    Input\n",
    "\n",
    "    d       Numpy array that contains the values of the pixels.\n",
    "\n",
    "    Output\n",
    "\n",
    "    x0      x coordinate of the image maximum\n",
    "    \n",
    "    y0      y coordinate of the image maximum\n",
    "\n",
    "    sigma   Width of the PSF\n",
    "\n",
    "    A       Estimated amplitude of the gaussian function\n",
    "    \"\"\"\n",
    "\n",
    "    # First, smooth the image with a median filter. For this, find \n",
    "    # the optimal window as the square-root of the geometric mean \n",
    "    # between the sizes of the array. This step is good to kill outliers:\n",
    "    window = int(np.sqrt(np.sqrt(d.shape[0]*d.shape[1])))\n",
    "    if window % 2 == 0:\n",
    "        window = window + 1 \n",
    "    \n",
    "\n",
    "    # Originally there was a median filter here, but it really adds a lot of time to the routine\n",
    "    #d_mfiltered = median_filter(d,size = window)\n",
    "    # Going to try without it to see if it makes a significant difference for vetoing\n",
    "    d_gfiltered = gaussian_filter(d,sigma = window)\n",
    "\n",
    "    # Now, find the maximum of this image:\n",
    "    y0, x0 = np.where(d_gfiltered == np.max(d_gfiltered))\n",
    "\n",
    "    # Take the first element. This helps in two cases: (1) only one maximum has \n",
    "    # been found, the outputs are numpy arrays and you want to extract the numbers \n",
    "    # and (2) in case there are several maximums (this has not happened so \n",
    "    # far but could in principle), pick the first of them:\n",
    "    y0 = y0[0]\n",
    "    x0 = x0[0]\n",
    "\n",
    "    # Now estimate the width of the PSF by taking a \"cross-plot\" using the \n",
    "    # maximum values found:\n",
    "    x_cut = d[:,int(x0)]\n",
    "    sigma_x = (np.sum(x_cut*(np.abs(np.arange(len(x_cut))-y0)))/np.sum(x_cut))/3.\n",
    "    y_cut = d[int(y0),:]\n",
    "    sigma_y = (np.sum(y_cut*(np.abs(np.arange(len(y_cut))-x0)))/np.sum(y_cut))/3.\n",
    "    sigma = np.sqrt(sigma_x*sigma_y)\n",
    "\n",
    "    # (Under) estimate amplitude assuming a gaussian function:\n",
    "    A = (np.sum(d-np.median(d))/(2.*np.pi*sigma**2))\n",
    "\n",
    "    return x0,y0,sigma,2.*A\n"
   ],
   "outputs": []
  },
  {
   "cell_type": "code",
   "execution_count": 4,
   "metadata": {},
   "source": [
    "datadir = 'Raw_Data/Test_Data'\n",
    "os.chdir(datadir)\n",
    "\n",
    "#These are the id numbers of the fitz files\n",
    "firstID = 1;\n",
    "lastID = 9999;\n",
    "\n",
    "\n",
    "##Let's go through our images and remove the bad frames\n",
    "\n",
    "all_object_list = []\n",
    "\n",
    "veto_list = []\n",
    "\n",
    "#Let's just make a list of every object\n",
    "for ID in range(firstID, lastID+1):\n",
    "    try:\n",
    "        if ID < 100:\n",
    "            if ('s00'+str(ID)+'.fits'):\n",
    "                header = fits.getheader('s00'+str(ID)+'.fits')\n",
    "                obj = header['OBJECT']\n",
    "                all_object_list.append('s00'+str(ID)+'.fits')\n",
    "           \n",
    "            \n",
    "        elif 99 < ID < 1000:\n",
    "            if ('s0'+str(ID)+'.fits'):\n",
    "                header = fits.getheader('s0'+str(ID)+'.fits')\n",
    "                obj = header['OBJECT']\n",
    "                all_object_list.append('s0'+str(ID)+'.fits')\n",
    "            \n",
    "        elif 999 < ID < 10000:\n",
    "            if ('s'+str(ID)+'.fits'):\n",
    "                header = fits.getheader('s'+str(ID)+'.fits')\n",
    "                obj = header['OBJECT']\n",
    "                all_object_list.append('s'+str(ID)+'.fits')\n",
    "            \n",
    "    except OSError:\n",
    "            continue\n",
    "    except KeyError:\n",
    "            continue\n",
    "            \n",
    "\n",
    "flat_obj_list = []\n",
    "#let's remove the darks\n",
    "for object in all_object_list:\n",
    "    header = fits.getheader(object)\n",
    "    obj = header['OBJECT']\n",
    "    if obj == 'dark':\n",
    "        continue\n",
    "    else:\n",
    "        flat_obj_list.append(object)\n",
    "\n",
    "\n"
   ],
   "outputs": []
  },
  {
   "cell_type": "code",
   "execution_count": 5,
   "metadata": {},
   "source": [
    "#Now we go through each object here, and we make a list of all the bad ones\n",
    "\n",
    "veto_list = []\n",
    "\n",
    "for obj in flat_obj_list:\n",
    "    header = fits.getheader(obj)\n",
    "    try:\n",
    "\n",
    "        image_data = fits.getdata(obj)\n",
    "        image_window = image_data[400:1000,850:1450]#we use the window we care about\n",
    "        \n",
    "        print(obj)\n",
    "        print(header['OBJECT'])\n",
    "        if 'flat' in header['OBJECT'].lower():\n",
    "            cent_counts = np.mean(image_window)\n",
    "            print('Flat!')\n",
    "        else:\n",
    "        \n",
    "            x0,y0,sigma,A = guess_gaussian_parameters(image_window)#need to do this for the window, not the whole image\n",
    "            \n",
    "            print(image_window[y0,x0])\n",
    "            #now that we have the centroid, let's make a window about the centroid, and take the average\n",
    "            centroid_window = image_window[y0-1:y0+1,x0-1:x0+1]\n",
    "            cent_counts = np.mean(centroid_window)#let's try max instead of mean\n",
    "            \n",
    "        print(cent_counts)\n",
    "    \n",
    "        if cent_counts > 25000: #Setting our max counts at 25000 here\n",
    "            veto_list.append(obj)\n",
    "            print('Appended!')\n",
    "        elif cent_counts < 6500: #Setting our minimum counts at 6500 here\n",
    "            veto_list.append(obj)\n",
    "            print('Appended!')\n",
    "        elif math.isnan(cent_counts) == True:\n",
    "            veto_list.append(obj)\n",
    "            print('Appended!')\n",
    "        else:\n",
    "            continue\n",
    "    except ValueError:\n",
    "        continue\n",
    "\n",
    "\n",
    "#Just median filter: ~94 s, appears accurate\n",
    "#Just Gaussian filter: ~ 1 s, appears accurate\n",
    "\n"
   ],
   "outputs": []
  },
  {
   "cell_type": "code",
   "execution_count": 5,
   "metadata": {},
   "source": [
    "#Write it to a text file for later\n",
    "with open('veto_list.txt', 'w') as f:\n",
    "    for item in veto_list:\n",
    "        f.write(\"%s\\n\" % item)"
   ],
   "outputs": []
  },
  {
   "cell_type": "code",
   "execution_count": 6,
   "metadata": {},
   "source": [
    "print(veto_list)"
   ],
   "outputs": []
  },
  {
   "cell_type": "code",
   "execution_count": 4,
   "metadata": {},
   "source": [
    "os.chdir('/media/corey/Big_Boi/Paul_Project/191020/')\n",
    "image_data = fits.getdata('TIC375542276_finalKs.fits')\n",
    "\n",
    "image_window = image_data[400:1000,850:1450]"
   ],
   "outputs": []
  },
  {
   "cell_type": "code",
   "execution_count": 7,
   "metadata": {},
   "source": [
    "plt.figure(figsize=(15,15))\n",
    "plt.imshow((image_data), origin='lower', cmap='gray')\n",
    "plt.title('Image')\n"
   ],
   "outputs": []
  },
  {
   "cell_type": "code",
   "execution_count": 13,
   "metadata": {},
   "source": [
    "plt.plot(image_window[350])\n",
    "plt.ylim(5000,10000)\n",
    "print(x0)"
   ],
   "outputs": []
  },
  {
   "cell_type": "code",
   "execution_count": 36,
   "metadata": {},
   "source": [
    "ylist = []\n",
    "for a in range(len(image_window[y0])):\n",
    "    ylist.append(image_window[a,x0])\n",
    "    "
   ],
   "outputs": []
  },
  {
   "cell_type": "code",
   "execution_count": 37,
   "metadata": {},
   "source": [
    "plt.plot(ylist)\n",
    "print(y0)"
   ],
   "outputs": []
  },
  {
   "cell_type": "code",
   "execution_count": 46,
   "metadata": {},
   "source": [
    "image_window[1:3,1:3]"
   ],
   "outputs": []
  },
  {
   "cell_type": "code",
   "execution_count": 15,
   "metadata": {},
   "source": [
    "np.mean(image_window[y0][x0][y0-10:y0+10,x0-10:x0+10])"
   ],
   "outputs": []
  },
  {
   "cell_type": "code",
   "execution_count": null,
   "metadata": {},
   "source": [
    "np.where(image_data == np.max(image_data))"
   ],
   "outputs": []
  },
  {
   "cell_type": "code",
   "execution_count": null,
   "metadata": {},
   "source": [
    "A"
   ],
   "outputs": []
  },
  {
   "cell_type": "code",
   "execution_count": 24,
   "metadata": {},
   "source": [
    "datadir = '/home/corey/Downloads/MAST_2019-07-22T2017/TESS/tess2019032160000-s0008-0000000001103432-0136-s'\n",
    "os.chdir(datadir)\n",
    "\n",
    "hdulist = fits.open('tess2019032160000-s0008-0000000001103432-0136-s_lc.fits')\n",
    "\n",
    "hdulist.info()\n",
    "\n",
    "image_data = hdulist[1].data\n",
    "\n",
    "\n",
    "print(image_data)\n",
    "plt.plot(image_data['TIME'],image_data['PDCSAP_FLUX'])"
   ],
   "outputs": []
  },
  {
   "cell_type": "code",
   "execution_count": null,
   "metadata": {},
   "source": [],
   "outputs": []
  }
 ],
 "metadata": {
  "kernelspec": {
   "display_name": "Python 3",
   "language": "python",
   "name": "python3"
  },
  "language_info": {
   "codemirror_mode": {
    "name": "ipython",
    "version": 3
   },
   "file_extension": ".py",
   "mimetype": "text/x-python",
   "name": "python",
   "nbconvert_exporter": "python",
   "pygments_lexer": "ipython3",
   "version": "3.6.10"
  }
 },
 "nbformat": 4,
 "nbformat_minor": 2
}
